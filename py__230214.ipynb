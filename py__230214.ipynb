{
 "cells": [
  {
   "cell_type": "markdown",
   "id": "1f953d4b",
   "metadata": {},
   "source": [
    "# 2023 / 02 / 24 (화)"
   ]
  },
  {
   "cell_type": "markdown",
   "id": "c260060b",
   "metadata": {},
   "source": [
    "## 암호화 문자열 해석(과제)"
   ]
  },
  {
   "cell_type": "code",
   "execution_count": 24,
   "id": "d5aee106",
   "metadata": {},
   "outputs": [
    {
     "name": "stdout",
     "output_type": "stream",
     "text": [
      "g fmnc wms bgblr rpylqjyrc gr zw fylb. rfyrq ufyr amknsrcpq ypc dmp. bmgle gr gl zw fylb gq glcddgagclr ylb rfyr'q ufw rfgq rcvr gq qm jmle. sqgle qrpgle.kyicrpylq() gq pcamkkclbcb. lmu ynnjw ml rfc spj.\n"
     ]
    }
   ],
   "source": [
    "import requests as req\n",
    "res = req.get(' http://ggoreb.com/quiz/encrypt_string.txt')\n",
    "text = res.text\n",
    "print(text)"
   ]
  },
  {
   "cell_type": "code",
   "execution_count": 13,
   "id": "00507dee",
   "metadata": {},
   "outputs": [
    {
     "data": {
      "text/plain": [
       "122"
      ]
     },
     "execution_count": 13,
     "metadata": {},
     "output_type": "execute_result"
    }
   ],
   "source": [
    "ord('a')\n",
    "ord('z')\n"
   ]
  },
  {
   "cell_type": "code",
   "execution_count": 14,
   "id": "88082727",
   "metadata": {},
   "outputs": [
    {
     "data": {
      "text/plain": [
       "'z'"
      ]
     },
     "execution_count": 14,
     "metadata": {},
     "output_type": "execute_result"
    }
   ],
   "source": [
    "chr(97)\n",
    "chr(122)"
   ]
  },
  {
   "cell_type": "markdown",
   "id": "e479ecfc",
   "metadata": {},
   "source": [
    "#### 원하는 문자 찾기\n",
    "- in\n",
    "- find()\n",
    "- index()\n",
    "- count()"
   ]
  },
  {
   "cell_type": "code",
   "execution_count": 22,
   "id": "74b41042",
   "metadata": {},
   "outputs": [
    {
     "name": "stdout",
     "output_type": "stream",
     "text": [
      "i\"hope\"you\"didnt\"tr{nsl{te\"it\"|y\"h{nd.\"th{ts\"wh{t\"computers\"{re\"for.\"doing\"it\"in\"|y\"h{nd\"is\"inefficient\"{nd\"th{t)s\"why\"this\"text\"is\"so\"long.\"using\"string.m{ketr{ns()\"is\"recommended.\"now\"{pply\"on\"the\"url."
     ]
    }
   ],
   "source": [
    "for t in text:\n",
    "    if t in '\\.()\"{}':\n",
    "        print(t, end = '')\n",
    "    else :\n",
    "        print(chr(ord(t)+2), end = '')\n",
    "    "
   ]
  },
  {
   "cell_type": "code",
   "execution_count": 20,
   "id": "23f29762",
   "metadata": {},
   "outputs": [
    {
     "name": "stdout",
     "output_type": "stream",
     "text": [
      "i hope you didnt translate it by hand. thats what aomputers are for. doing it in by hand is ineffiaient and that's why this text is so long. using string.maketrans() is reaommended. now apply on the url."
     ]
    }
   ],
   "source": [
    "# 어터러블 Iterable 반복 가능 자료형\n",
    "# 1. list\n",
    "# 2. dictionary\n",
    "# 3. string\n",
    "\n",
    "# a - z a문자만 2 증가\n",
    "for t in text :\n",
    "    if t > 'a' and t <= 'z':\n",
    "        change_t = ord(t) + 2\n",
    "        if change_t > ord('z'):\n",
    "            change_t -= 26\n",
    "        print(chr(change_t), end = '')\n",
    "    else :\n",
    "        print(t,end='')"
   ]
  },
  {
   "cell_type": "code",
   "execution_count": 185,
   "id": "679089e6",
   "metadata": {},
   "outputs": [
    {
     "data": {
      "text/plain": [
       "'bbcd'"
      ]
     },
     "execution_count": 185,
     "metadata": {},
     "output_type": "execute_result"
    }
   ],
   "source": [
    "obj = ''.maketrans('a','b')\n",
    "'abcd'.translate(obj)"
   ]
  },
  {
   "cell_type": "code",
   "execution_count": 186,
   "id": "1c40ba5f",
   "metadata": {},
   "outputs": [
    {
     "data": {
      "text/plain": [
       "'bbcd'"
      ]
     },
     "execution_count": 186,
     "metadata": {},
     "output_type": "execute_result"
    }
   ],
   "source": [
    "c = 'abcd'\n",
    "\n",
    "obj = c.maketrans('a','b')\n",
    "c.translate(obj)"
   ]
  },
  {
   "cell_type": "code",
   "execution_count": null,
   "id": "c5f9acdd",
   "metadata": {},
   "outputs": [],
   "source": [
    "### 다른 방법"
   ]
  },
  {
   "cell_type": "code",
   "execution_count": 38,
   "id": "df754c36",
   "metadata": {},
   "outputs": [
    {
     "name": "stdout",
     "output_type": "stream",
     "text": [
      "g fmnc wms bgblr rpylqjyrc gr zw fylb. rfyrq ufyr amknsrcpq ypc dmp. bmgle gr gl zw fylb gq glcddgagclr ylb rfyr'q ufw rfgq rcvr gq qm jmle. sqgle qrpgle.kyicrpylq() gq pcamkkclbcb. lmu ynnjw ml rfc spj.\n"
     ]
    }
   ],
   "source": [
    "import requests as req\n",
    "res = req.get(' http://ggoreb.com/quiz/encrypt_string.txt')\n",
    "text = res.text\n",
    "print(text)"
   ]
  },
  {
   "cell_type": "code",
   "execution_count": 39,
   "id": "015877d3",
   "metadata": {
    "scrolled": true
   },
   "outputs": [
    {
     "data": {
      "text/plain": [
       "\"g fmnc wms bgblr rpylqjyrc gr zw fylb. rfyrq ufyr amknsrcpq ypc dmp. bmgle gr gl zw fylb gq glcddgagclr ylb rfyr'q ufw rfgq rcvr gq qm jmle. sqgle qrpgle.kyicrpylq() gq pcamkkclbcb. lmu ynnjw ml rfc spj.\""
      ]
     },
     "execution_count": 39,
     "metadata": {},
     "output_type": "execute_result"
    }
   ],
   "source": [
    "text"
   ]
  },
  {
   "cell_type": "code",
   "execution_count": 40,
   "id": "8ed5a8a2",
   "metadata": {},
   "outputs": [],
   "source": [
    "# a부터 z까지 알파벳 출력\n",
    "before = [ chr(i) for i in range(ord('a'), ord('z')+1)]\n",
    "before = ''.join(before)\n",
    "\n",
    "# 알파벳 위치 변경\n",
    "after = before[2:] + before[:2]\n",
    "after = ''.join(after)\n"
   ]
  },
  {
   "cell_type": "code",
   "execution_count": 41,
   "id": "8257508b",
   "metadata": {},
   "outputs": [
    {
     "data": {
      "text/plain": [
       "\"i hope you didnt translate it by hand. thats what computers are for. doing it in by hand is inefficient and that's why this text is so long. using string.maketrans() is recommended. now apply on the url.\""
      ]
     },
     "execution_count": 41,
     "metadata": {},
     "output_type": "execute_result"
    }
   ],
   "source": [
    "obj = ''.maketrans(before, after)\n",
    "text.translate(obj)"
   ]
  },
  {
   "cell_type": "markdown",
   "id": "2d5200c3",
   "metadata": {},
   "source": [
    "## 파일 다루기"
   ]
  },
  {
   "cell_type": "markdown",
   "id": "a39266f9",
   "metadata": {},
   "source": [
    "\n",
    "1. open()\n",
    "            \n",
    "2. 경로 (절대 / 상대)\n",
    "    -  절대 경로 ex) cd c:/ windows ,  http:// 어쩌고 저쩌고\n",
    "    -  상대 경로 ex) cd user #다이렉트로 어디라고 할수 없음, cd .. 점점은 밖으로 나가는 경로\n",
    "    \n",
    "3. 모드 (mode) (읽기 r / 쓰기 w)  세부적 => (바이너리 / 텍스트)\n",
    "    - ex) 파일 다운로드\n",
    "            \n",
    "4. 문자 표현 방식 - encoding\n",
    "    - utf8 / utf-8 / ms949 / cp949\n",
    "\n"
   ]
  },
  {
   "cell_type": "code",
   "execution_count": 53,
   "id": "63d9466b",
   "metadata": {
    "scrolled": true
   },
   "outputs": [],
   "source": [
    "# 파일 열기 open()\n",
    "file = open('test.txt', encoding = 'utf8')\n",
    "text = file.read()\n",
    "file.close()"
   ]
  },
  {
   "cell_type": "code",
   "execution_count": 56,
   "id": "9d41a71b",
   "metadata": {},
   "outputs": [],
   "source": [
    "# with open()\n",
    "# close() 안해도 됨 자동으로 close()됨\n",
    "with open('test.txt', encoding = 'utf8') as file:\n",
    "    text = file.read()"
   ]
  },
  {
   "cell_type": "code",
   "execution_count": 61,
   "id": "72b0754a",
   "metadata": {
    "scrolled": true
   },
   "outputs": [
    {
     "data": {
      "text/plain": [
       "'1번째\\n2번째\\n3번째\\n4번째\\n5번째\\n6번째\\n'"
      ]
     },
     "execution_count": 61,
     "metadata": {},
     "output_type": "execute_result"
    }
   ],
   "source": [
    "file = open('test.txt', encoding = 'utf8') # 파일 불러오기\n",
    "\n",
    "# 읽기 read()\n",
    "file.read()"
   ]
  },
  {
   "cell_type": "code",
   "execution_count": 81,
   "id": "603d9f95",
   "metadata": {},
   "outputs": [],
   "source": [
    "file = open('test.txt', encoding = 'utf8')"
   ]
  },
  {
   "cell_type": "code",
   "execution_count": 82,
   "id": "5c4e9b0f",
   "metadata": {},
   "outputs": [
    {
     "name": "stdout",
     "output_type": "stream",
     "text": [
      "1번째\n",
      "2번째\n",
      "3번째\n",
      "4번째\n",
      "5번째\n",
      "6번째\n",
      "\n"
     ]
    }
   ],
   "source": [
    "text = file.read()\n",
    "print(text) # 통채로 읽어옴"
   ]
  },
  {
   "cell_type": "code",
   "execution_count": 74,
   "id": "f7051e23",
   "metadata": {},
   "outputs": [
    {
     "name": "stdout",
     "output_type": "stream",
     "text": [
      "1번째\n",
      "\n"
     ]
    }
   ],
   "source": [
    "# shift + ctrl + -  (분리)    <====>    shift + m\n",
    "# readline() 줄바꿈 문자까지(한줄만) 읽음\n",
    "text = file.readline() # 한줄씩 읽기\n",
    "print(text) #"
   ]
  },
  {
   "cell_type": "code",
   "execution_count": 77,
   "id": "9d5b8d3b",
   "metadata": {},
   "outputs": [
    {
     "name": "stdout",
     "output_type": "stream",
     "text": [
      "1번째\n",
      "\n",
      "2번째\n",
      "\n",
      "3번째\n",
      "\n",
      "4번째\n",
      "\n",
      "5번째\n",
      "\n",
      "6번째\n",
      "\n"
     ]
    }
   ],
   "source": [
    "# 내용 읽히지 않을때까지 (마지막줄까지) 읽음\n",
    "# read() 차이점 => 줄바꿈 기준으로 데려옴\n",
    "while True :\n",
    "    line = file.readline()\n",
    "    if not line : break # false가 나올때 부정해라 => 멈춰라\n",
    "    print(line)"
   ]
  },
  {
   "cell_type": "code",
   "execution_count": 150,
   "id": "a9b183aa",
   "metadata": {
    "scrolled": true
   },
   "outputs": [],
   "source": [
    "file = open('c:/users/admin/__python__/numbers.txt','r')\n",
    "data = file.read()\n",
    "file.close()"
   ]
  },
  {
   "cell_type": "code",
   "execution_count": 151,
   "id": "587b2d66",
   "metadata": {
    "scrolled": true
   },
   "outputs": [
    {
     "data": {
      "text/plain": [
       "['1', '2', '3', '4', '5']"
      ]
     },
     "execution_count": 151,
     "metadata": {},
     "output_type": "execute_result"
    }
   ],
   "source": [
    "data.split('\\n')"
   ]
  },
  {
   "cell_type": "code",
   "execution_count": 152,
   "id": "f612d3f8",
   "metadata": {},
   "outputs": [
    {
     "data": {
      "text/plain": [
       "[1, 2, 3, 4, 5]"
      ]
     },
     "execution_count": 152,
     "metadata": {},
     "output_type": "execute_result"
    }
   ],
   "source": [
    "list(map(int, data.split('\\n'))) # 줄바꿈기준으로 리스트화 "
   ]
  },
  {
   "cell_type": "code",
   "execution_count": 144,
   "id": "ab2f2815",
   "metadata": {
    "scrolled": true
   },
   "outputs": [
    {
     "data": {
      "text/plain": [
       "15"
      ]
     },
     "execution_count": 144,
     "metadata": {},
     "output_type": "execute_result"
    }
   ],
   "source": [
    "sum(list(map(int, data.split('\\n')))) #리스트로 뽑은거 덧셈"
   ]
  },
  {
   "cell_type": "code",
   "execution_count": 136,
   "id": "685974ae",
   "metadata": {},
   "outputs": [],
   "source": [
    "# 쓰기\n",
    "file = open('c:/users/admin/__python__/write.txt', 'w')\n",
    "file.write('입력 연습\\n줄바꿈도가능')\n",
    "file.close()"
   ]
  },
  {
   "cell_type": "code",
   "execution_count": 138,
   "id": "c081c308",
   "metadata": {},
   "outputs": [],
   "source": [
    "file = open('seoul_기온.csv')\n",
    "text = file.read()\n",
    "file.close()"
   ]
  },
  {
   "cell_type": "code",
   "execution_count": 140,
   "id": "a2351a9b",
   "metadata": {},
   "outputs": [
    {
     "data": {
      "text/plain": [
       "['날짜,평균기온(℃),최저기온(℃),최고기온(℃)',\n",
       " '2021-01-02,-5,-8.4,-1.4',\n",
       " '2021-01-03,-5.6,-9.1,-2',\n",
       " '2021-01-04,-3.5,-8.4,0.3',\n",
       " '2021-01-05,-5.5,-9.9,-2.1',\n",
       " '2021-01-06,-7.4,-12,-1.9',\n",
       " '2021-01-07,-14.5,-16.5,-8.4',\n",
       " '2021-01-08,-14.9,-18.6,-10.7',\n",
       " '2021-01-09,-12.2,-16.6,-7.5',\n",
       " '2021-01-10,-7.7,-12.8,-2.7',\n",
       " '2021-01-11,-6.7,-9.6,-4',\n",
       " '2021-01-12,-3.9,-9.3,-0.5',\n",
       " '2021-01-13,2,-3,8.3',\n",
       " '2021-01-14,1.7,-3.6,7',\n",
       " '2021-01-15,4.5,-0.7,9.9',\n",
       " '2021-01-16,-4.9,-8.7,-0.7',\n",
       " '2021-01-17,-5.5,-10.8,-1.3',\n",
       " '2021-01-18,-3.8,-9.1,0.2',\n",
       " '2021-01-19,-6.3,-11.6,-0.2']"
      ]
     },
     "execution_count": 140,
     "metadata": {},
     "output_type": "execute_result"
    }
   ],
   "source": [
    "text.split('\\n')"
   ]
  },
  {
   "cell_type": "code",
   "execution_count": 163,
   "id": "9e0df32a",
   "metadata": {
    "scrolled": true
   },
   "outputs": [
    {
     "name": "stdout",
     "output_type": "stream",
     "text": [
      "2021-01-02 -8.4\n",
      "2021-01-03 -9.1\n",
      "2021-01-04 -8.4\n",
      "2021-01-05 -9.9\n",
      "2021-01-06 -12\n",
      "2021-01-07 -16.5\n",
      "2021-01-08 -18.6\n",
      "2021-01-09 -16.6\n",
      "2021-01-10 -12.8\n",
      "2021-01-11 -9.6\n",
      "2021-01-12 -9.3\n",
      "2021-01-13 -3\n",
      "2021-01-14 -3.6\n",
      "2021-01-15 -0.7\n",
      "2021-01-16 -8.7\n",
      "2021-01-17 -10.8\n",
      "2021-01-18 -9.1\n",
      "2021-01-19 -11.6\n"
     ]
    }
   ],
   "source": [
    "날짜리스트 = []\n",
    "최저기온리스트 = []\n",
    "\n",
    "for line in text.split('\\n')[1:]:  # 제목 없애기 / 1번째 위치부터 split\n",
    "    최저기온 = line.split(',')[2]\n",
    "    날짜 = line.split(',')[0]\n",
    "    \n",
    "    날짜리스트.append(날짜)\n",
    "    최저기온리스트.append(최저기온)\n",
    "    \n",
    "    print(날짜 , 최저기온)\n"
   ]
  },
  {
   "cell_type": "code",
   "execution_count": 164,
   "id": "424e2b52",
   "metadata": {
    "collapsed": true
   },
   "outputs": [
    {
     "data": {
      "text/plain": [
       "['2021-01-02',\n",
       " '2021-01-03',\n",
       " '2021-01-04',\n",
       " '2021-01-05',\n",
       " '2021-01-06',\n",
       " '2021-01-07',\n",
       " '2021-01-08',\n",
       " '2021-01-09',\n",
       " '2021-01-10',\n",
       " '2021-01-11',\n",
       " '2021-01-12',\n",
       " '2021-01-13',\n",
       " '2021-01-14',\n",
       " '2021-01-15',\n",
       " '2021-01-16',\n",
       " '2021-01-17',\n",
       " '2021-01-18',\n",
       " '2021-01-19']"
      ]
     },
     "execution_count": 164,
     "metadata": {},
     "output_type": "execute_result"
    }
   ],
   "source": [
    "날짜리스트"
   ]
  },
  {
   "cell_type": "code",
   "execution_count": 167,
   "id": "882a8efc",
   "metadata": {
    "collapsed": true
   },
   "outputs": [
    {
     "data": {
      "text/plain": [
       "['-8.4',\n",
       " '-9.1',\n",
       " '-8.4',\n",
       " '-9.9',\n",
       " '-12',\n",
       " '-16.5',\n",
       " '-18.6',\n",
       " '-16.6',\n",
       " '-12.8',\n",
       " '-9.6',\n",
       " '-9.3',\n",
       " '-3',\n",
       " '-3.6',\n",
       " '-0.7',\n",
       " '-8.7',\n",
       " '-10.8',\n",
       " '-9.1',\n",
       " '-11.6']"
      ]
     },
     "execution_count": 167,
     "metadata": {},
     "output_type": "execute_result"
    }
   ],
   "source": [
    "최저기온리스트"
   ]
  },
  {
   "cell_type": "code",
   "execution_count": 170,
   "id": "a546c19c",
   "metadata": {},
   "outputs": [],
   "source": [
    "최저기온리스트 = list(map(float, 최저기온리스트)) # 실수형 list만들고 덮어쓰기"
   ]
  },
  {
   "cell_type": "code",
   "execution_count": 174,
   "id": "b78f6341",
   "metadata": {},
   "outputs": [
    {
     "data": {
      "text/plain": [
       "[<matplotlib.lines.Line2D at 0x18bb5693150>]"
      ]
     },
     "execution_count": 174,
     "metadata": {},
     "output_type": "execute_result"
    },
    {
     "data": {
      "image/png": "[encoded data removed]",
      "text/plain": [
       "<Figure size 640x480 with 1 Axes>"
      ]
     },
     "metadata": {},
     "output_type": "display_data"
    }
   ],
   "source": [
    "import matplotlib.pyplot as plt  # 별칭\n",
    "plt.plot(최저기온리스트)"
   ]
  },
  {
   "cell_type": "code",
   "execution_count": 179,
   "id": "507b7bfe",
   "metadata": {},
   "outputs": [],
   "source": [
    "import requests\n",
    "\n",
    "url = 'https://image-comic.pstatic.net/webtoon/703846/250/20230123222454_b7b28c9d45d9038440c54e7e6d2326a6_IMAG01_1.jpg'\n",
    "\n",
    "header = {'user-agent' : 'Mozilla/5.0 (Windows NT 10.0;Win64;)'} #보안때문에 header 사용해서 \n",
    "\n",
    "res = requests.get(url, headers = header)"
   ]
  },
  {
   "cell_type": "code",
   "execution_count": 180,
   "id": "3d132c92",
   "metadata": {},
   "outputs": [],
   "source": [
    "file = open('img.jpg','wb') #바이너리로 저장할때는 인코딩 따로 필요 X\n",
    "file.write(res.content)\n",
    "file.close()"
   ]
  },
  {
   "cell_type": "markdown",
   "id": "7d0e162a",
   "metadata": {},
   "source": [
    "## Git"
   ]
  },
  {
   "cell_type": "markdown",
   "id": "536748e9",
   "metadata": {},
   "source": [
    "1. 저장소 생성(초기화)\n",
    "git init\n",
    "2. 파일을 관리 대상으로 등록\n",
    "git add ooo.txt\n",
    "3. 저장\n",
    "git commit -m \"메세지\"\n",
    "4. 상태확인\n",
    "git status"
   ]
  },
  {
   "cell_type": "code",
   "execution_count": null,
   "id": "90283070",
   "metadata": {},
   "outputs": [],
   "source": []
  },
  {
   "cell_type": "code",
   "execution_count": null,
   "id": "05f83668",
   "metadata": {},
   "outputs": [],
   "source": []
  },
  {
   "cell_type": "code",
   "execution_count": null,
   "id": "89a60ad8",
   "metadata": {},
   "outputs": [],
   "source": []
  }
 ],
 "metadata": {
  "kernelspec": {
   "display_name": "Python 3 (ipykernel)",
   "language": "python",
   "name": "python3"
  },
  "language_info": {
   "codemirror_mode": {
    "name": "ipython",
    "version": 3
   },
   "file_extension": ".py",
   "mimetype": "text/x-python",
   "name": "python",
   "nbconvert_exporter": "python",
   "pygments_lexer": "ipython3",
   "version": "3.11.1"
  }
 },
 "nbformat": 4,
 "nbformat_minor": 5
}
