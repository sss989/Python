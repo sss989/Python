{
 "cells": [
  {
   "cell_type": "markdown",
   "id": "be4ab0ae-f923-49bb-be04-f77401b7207f",
   "metadata": {},
   "source": [
    "## 1이 될 때까지\n",
    "- 어떠한 수 N이 될 때까지 다음의 두 과정 중 하나를 반복적으로 선택하여 수행하려고 합니다. 단, 두번째 연산은 N이 K로 나누어 떨어질 때만 선택할 수 있습니다.\n",
    "1. N에서 1을 뺍니다.\n",
    "2. N을 K로 나눕니다.\n",
    "- 예를 들어 N이 17, K가 4라고 가정합시다. 이 때 1번의 과정을 한 번 수행하면 N은 16이 됩니다. 이후에 2번의 과정을 두 번 수행하면 N은 1이 됩니다. 결과적으로 이 경우 전체 과정을 실행한 횟수는 3이 됩니다. 이는 N을 1로 만드는 최소 횟수입니다.\n",
    "- N과 K가 주어질 때 N이 1이 될 때까지 1번 혹은 2번의 과정을 수행해야 하는 최소 횟수를 구하는 프로그램을 작성하세요."
   ]
  },
  {
   "cell_type": "code",
   "execution_count": 6,
   "id": "fc85472a-3cbe-4619-8011-e0de2f2c2dae",
   "metadata": {},
   "outputs": [
    {
     "name": "stdout",
     "output_type": "stream",
     "text": [
      "6\n"
     ]
    }
   ],
   "source": [
    "n = 25\n",
    "k = 3\n",
    "count = 0\n",
    "\n",
    "while True :\n",
    "    if n % k == 0:   #나누어 떨어진다면\n",
    "        n = n // k\n",
    "        count += 1\n",
    "    else :  # 나누어 떨어지지 않는 경우\n",
    "        n = n - 1\n",
    "        count += 1\n",
    "    if n == 1 : break\n",
    "    \n",
    "print(count)"
   ]
  },
  {
   "cell_type": "code",
   "execution_count": 25,
   "id": "b20f0031",
   "metadata": {},
   "outputs": [
    {
     "name": "stdout",
     "output_type": "stream",
     "text": [
      "-23\n"
     ]
    }
   ],
   "source": [
    "n = 25\n",
    "k = 3\n",
    "count = 0\n",
    "\n",
    "while True :\n",
    "    if n % k == 0:   #나누어 떨어진다면\n",
    "        n = n // k\n",
    "        count += 1\n",
    "        \n",
    "    else :   # 나누어 떨어지지 않는 경우\n",
    "        수 = n // k * k # 8 * 3 ==>24\n",
    "        n = n - 수\n",
    "        count += (n - 수)\n",
    "    if n == 1 : break\n",
    "    \n",
    "print(count)"
   ]
  },
  {
   "cell_type": "code",
   "execution_count": 26,
   "id": "7aa02b2b",
   "metadata": {},
   "outputs": [
    {
     "name": "stdout",
     "output_type": "stream",
     "text": [
      "n 24 k 3 count 1\n",
      "n 8 k 3 count 2\n",
      "n 6 k 3 count 4\n",
      "n 2 k 3 count 5\n",
      "6\n"
     ]
    }
   ],
   "source": [
    "n = 25\n",
    "k = 3\n",
    "count = 0\n",
    "while True:\n",
    "    if n % k == 0:  # 나누어 떨어진다면\n",
    "        n = n // k\n",
    "        count += 1\n",
    "    else:  # 나누어 떨어지지 않는 경우\n",
    "        if n >= k:\n",
    "            수 = n // k * k # 8 * 3 ==> 24\n",
    "            count += (n - 수)\n",
    "            n = n - (n - 수)\n",
    "        else:\n",
    "            count += (n - 1)\n",
    "            break\n",
    "    print('n %s k %s count %s' % (n, k, count))\n",
    "print(count)"
   ]
  },
  {
   "cell_type": "code",
   "execution_count": null,
   "id": "506fe431",
   "metadata": {},
   "outputs": [],
   "source": []
  }
 ],
 "metadata": {
  "kernelspec": {
   "display_name": "Python 3 (ipykernel)",
   "language": "python",
   "name": "python3"
  },
  "language_info": {
   "codemirror_mode": {
    "name": "ipython",
    "version": 3
   },
   "file_extension": ".py",
   "mimetype": "text/x-python",
   "name": "python",
   "nbconvert_exporter": "python",
   "pygments_lexer": "ipython3",
   "version": "3.11.1"
  },
  "vscode": {
   "interpreter": {
    "hash": "8b5c1f561d2d0e0742d9017a700b1827e4f6643b5e48318fcc1a8a6763d8e21c"
   }
  }
 },
 "nbformat": 4,
 "nbformat_minor": 5
}
